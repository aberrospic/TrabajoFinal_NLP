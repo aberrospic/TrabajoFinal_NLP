{
  "nbformat": 4,
  "nbformat_minor": 0,
  "metadata": {
    "colab": {
      "provenance": []
    },
    "kernelspec": {
      "name": "python3",
      "display_name": "Python 3"
    },
    "language_info": {
      "name": "python"
    }
  },
  "cells": [
    {
      "cell_type": "code",
      "source": [
        "!pip install googlesearch-python"
      ],
      "metadata": {
        "colab": {
          "base_uri": "https://localhost:8080/"
        },
        "id": "hdv2JoMUG8LE",
        "outputId": "de5a7c9e-c1b9-4b33-b3ea-37ad5b1cc5b9"
      },
      "execution_count": 1,
      "outputs": [
        {
          "output_type": "stream",
          "name": "stdout",
          "text": [
            "Collecting googlesearch-python\n",
            "  Downloading googlesearch_python-1.2.4-py3-none-any.whl (4.5 kB)\n",
            "Requirement already satisfied: beautifulsoup4>=4.9 in /usr/local/lib/python3.10/dist-packages (from googlesearch-python) (4.12.3)\n",
            "Requirement already satisfied: requests>=2.20 in /usr/local/lib/python3.10/dist-packages (from googlesearch-python) (2.31.0)\n",
            "Requirement already satisfied: soupsieve>1.2 in /usr/local/lib/python3.10/dist-packages (from beautifulsoup4>=4.9->googlesearch-python) (2.5)\n",
            "Requirement already satisfied: charset-normalizer<4,>=2 in /usr/local/lib/python3.10/dist-packages (from requests>=2.20->googlesearch-python) (3.3.2)\n",
            "Requirement already satisfied: idna<4,>=2.5 in /usr/local/lib/python3.10/dist-packages (from requests>=2.20->googlesearch-python) (3.7)\n",
            "Requirement already satisfied: urllib3<3,>=1.21.1 in /usr/local/lib/python3.10/dist-packages (from requests>=2.20->googlesearch-python) (2.0.7)\n",
            "Requirement already satisfied: certifi>=2017.4.17 in /usr/local/lib/python3.10/dist-packages (from requests>=2.20->googlesearch-python) (2024.6.2)\n",
            "Installing collected packages: googlesearch-python\n",
            "Successfully installed googlesearch-python-1.2.4\n"
          ]
        }
      ]
    },
    {
      "cell_type": "code",
      "execution_count": 2,
      "metadata": {
        "colab": {
          "base_uri": "https://localhost:8080/"
        },
        "id": "2HiyfYaAFU51",
        "outputId": "fcb54589-07d4-41fa-f9f9-89749f562e2f"
      },
      "outputs": [
        {
          "output_type": "stream",
          "name": "stdout",
          "text": [
            "¿Cómo construir un backend para una aplicación móvil?\n",
            "https://blog.back4app.com/es/como-construir-un-backend-para-una-aplicacion-movil/\n",
            "12 dic 2022 — En este artículo, aprenderá qué es un backend para una aplicación móvil y todo lo que necesita saber para construir su backend.\n",
            "Las 10 mejores soluciones de backend para crear su ...\n",
            "https://blog.back4app.com/es/las-10-mejores-soluciones-de-backend-para-crear-su-proxima-aplicacion/\n",
            "Las 10 mejores soluciones de backend para crear su próxima aplicación · 1. Back4app · 2. Firebase · 3. Express.js · 4. Laravel · 5. Django · 6. Ruby on Rails.\n",
            "La mejor manera de aprender desarrollo web backend\n",
            "https://www.freecodecamp.org/espanol/news/aprender-desarrollo-backend/\n",
            "27 abr 2023 — Están totalmente solos. Por lo tanto, a menudo tendrás que crear páginas web y servidores tú mismo, al menos al principio. Aunque hay muchas ...\n",
            "Cómo Construir Un Backend Escalable Y Mantenible Para ...\n",
            "https://foonkiemonkey.co.uk/es/how-to-build-a-scalable-and-maintainable-backend-for-your-project/\n",
            "5 abr 2023 — La contenedorización es un aspecto esencial de la construcción de una arquitectura de aplicaciones escalable y sostenible. Es el proceso de ...\n",
            "Guía completa para crear un back end de manera efectiva\n",
            "https://www.byronvargas.com/web/como-hacer-un-back-end/\n",
            "1 dic 2023 — Para crear un back end efectivo, es esencial tener en cuenta varios aspectos clave. El primero es elegir un lenguaje de programación adecuado, ...\n"
          ]
        }
      ],
      "source": [
        "from googlesearch import search\n",
        "\n",
        "# Realizar una búsqueda en Google\n",
        "query = \"como armar un backend\"\n",
        "\n",
        "# Obtener los URLs de los resultados\n",
        "urls = search(query, num_results=5, lang=\"es\", advanced=True,)\n",
        "for url in urls:\n",
        "    print(url.title)\n",
        "    print(url.url)\n",
        "    print(url.description)"
      ]
    },
    {
      "cell_type": "code",
      "source": [
        "import requests\n",
        "from bs4 import BeautifulSoup\n",
        "from googlesearch import search\n",
        "\n",
        "# Realizar una búsqueda en Google\n",
        "query = \"como armar un backend\"\n",
        "urls = search(query, num_results=2, lang=\"es\", advanced=True)\n",
        "\n",
        "def analizar_pagina(url):\n",
        "    try:\n",
        "        # Obtener el contenido de la página web\n",
        "        response = requests.get(url)\n",
        "        response.raise_for_status()  # Verifica que la solicitud fue exitosa\n",
        "\n",
        "        # Crear un objeto BeautifulSoup y parsear el HTML\n",
        "        soup = BeautifulSoup(response.content, 'html.parser')\n",
        "\n",
        "        # Extraer el título de la página\n",
        "        titulo = soup.title.string if soup.title else 'Sin título'\n",
        "        print(f'Título de la página: {titulo}')\n",
        "\n",
        "        # Extraer todos los párrafos de la página dentro del contenido principal\n",
        "        contenido_principal = soup.find('main') or soup.find('article') or soup\n",
        "        parrafos = contenido_principal.find_all('p')\n",
        "\n",
        "        texto_largo = \"\"\n",
        "\n",
        "        # Filtrar y mostrar párrafos que tengan una longitud mínima\n",
        "        for i, parrafo in enumerate(parrafos, 1):\n",
        "            texto = parrafo.get_text().strip()\n",
        "            if len(texto) > 50:  # Por ejemplo, considerar solo párrafos con más de 50 caracteres\n",
        "                texto_largo = texto_largo + texto + \" \"\n",
        "        return texto_largo\n",
        "    except requests.RequestException as e:\n",
        "        print(f'Error al acceder a {url}: {e}')\n",
        "        return \"\"\n",
        "\n",
        "# Analizar cada URL en la lista\n",
        "contenidos = []\n",
        "for url in urls:\n",
        "    print(f'\\nAnalizando {url}...\\n')\n",
        "    contenido = analizar_pagina(url.url)\n",
        "    contenidos.append(contenido)"
      ],
      "metadata": {
        "colab": {
          "base_uri": "https://localhost:8080/"
        },
        "id": "6Pb_Xta2Ft9D",
        "outputId": "504ed326-bf84-402f-fb72-2ac95a857602"
      },
      "execution_count": 24,
      "outputs": [
        {
          "output_type": "stream",
          "name": "stdout",
          "text": [
            "\n",
            "Analizando SearchResult(url=https://blog.back4app.com/es/como-construir-un-backend-para-una-aplicacion-movil/, title=¿Cómo construir un backend para una aplicación móvil?, description=12 dic 2022 — En este artículo, aprenderá qué es un backend para una aplicación móvil y todo lo que necesita saber para construir su backend.)...\n",
            "\n",
            "Título de la página: Todo lo que necesita saber sobre la creación de un backend de aplicación móvil\n",
            "\n",
            "Analizando SearchResult(url=https://blog.back4app.com/es/las-10-mejores-soluciones-de-backend-para-crear-su-proxima-aplicacion/, title=Las 10 mejores soluciones de backend para crear su ..., description=Las 10 mejores soluciones de backend para crear su próxima aplicación · 1. Back4app · 2. Firebase · 3. Express.js · 4. Laravel · 5. Django · 6. Ruby on Rails.)...\n",
            "\n",
            "Título de la página: Las 10 mejores soluciones de backend para crear su próxima aplicación\n",
            "\n",
            "Analizando SearchResult(url=https://www.freecodecamp.org/espanol/news/aprender-desarrollo-backend/, title=La mejor manera de aprender desarrollo web backend, description=27 abr 2023 — Están totalmente solos. Por lo tanto, a menudo tendrás que crear páginas web y servidores tú mismo, al menos al principio. Aunque hay muchas ...)...\n",
            "\n",
            "Título de la página: La mejor manera de aprender desarrollo web backend\n"
          ]
        }
      ]
    },
    {
      "cell_type": "code",
      "source": [
        "!pip install requests beautifulsoup4 transformers"
      ],
      "metadata": {
        "colab": {
          "base_uri": "https://localhost:8080/"
        },
        "id": "3xaatdNgTaLq",
        "outputId": "1f7b801f-b3bf-47e3-f19c-032b45b533ad"
      },
      "execution_count": null,
      "outputs": [
        {
          "output_type": "stream",
          "name": "stdout",
          "text": [
            "Requirement already satisfied: requests in /usr/local/lib/python3.10/dist-packages (2.31.0)\n",
            "Requirement already satisfied: beautifulsoup4 in /usr/local/lib/python3.10/dist-packages (4.12.3)\n",
            "Requirement already satisfied: transformers in /usr/local/lib/python3.10/dist-packages (4.41.2)\n",
            "Requirement already satisfied: charset-normalizer<4,>=2 in /usr/local/lib/python3.10/dist-packages (from requests) (3.3.2)\n",
            "Requirement already satisfied: idna<4,>=2.5 in /usr/local/lib/python3.10/dist-packages (from requests) (3.7)\n",
            "Requirement already satisfied: urllib3<3,>=1.21.1 in /usr/local/lib/python3.10/dist-packages (from requests) (2.0.7)\n",
            "Requirement already satisfied: certifi>=2017.4.17 in /usr/local/lib/python3.10/dist-packages (from requests) (2024.6.2)\n",
            "Requirement already satisfied: soupsieve>1.2 in /usr/local/lib/python3.10/dist-packages (from beautifulsoup4) (2.5)\n",
            "Requirement already satisfied: filelock in /usr/local/lib/python3.10/dist-packages (from transformers) (3.15.4)\n",
            "Requirement already satisfied: huggingface-hub<1.0,>=0.23.0 in /usr/local/lib/python3.10/dist-packages (from transformers) (0.23.4)\n",
            "Requirement already satisfied: numpy>=1.17 in /usr/local/lib/python3.10/dist-packages (from transformers) (1.25.2)\n",
            "Requirement already satisfied: packaging>=20.0 in /usr/local/lib/python3.10/dist-packages (from transformers) (24.1)\n",
            "Requirement already satisfied: pyyaml>=5.1 in /usr/local/lib/python3.10/dist-packages (from transformers) (6.0.1)\n",
            "Requirement already satisfied: regex!=2019.12.17 in /usr/local/lib/python3.10/dist-packages (from transformers) (2024.5.15)\n",
            "Requirement already satisfied: tokenizers<0.20,>=0.19 in /usr/local/lib/python3.10/dist-packages (from transformers) (0.19.1)\n",
            "Requirement already satisfied: safetensors>=0.4.1 in /usr/local/lib/python3.10/dist-packages (from transformers) (0.4.3)\n",
            "Requirement already satisfied: tqdm>=4.27 in /usr/local/lib/python3.10/dist-packages (from transformers) (4.66.4)\n",
            "Requirement already satisfied: fsspec>=2023.5.0 in /usr/local/lib/python3.10/dist-packages (from huggingface-hub<1.0,>=0.23.0->transformers) (2023.6.0)\n",
            "Requirement already satisfied: typing-extensions>=3.7.4.3 in /usr/local/lib/python3.10/dist-packages (from huggingface-hub<1.0,>=0.23.0->transformers) (4.12.2)\n"
          ]
        }
      ]
    },
    {
      "cell_type": "code",
      "source": [
        "!pip install openai"
      ],
      "metadata": {
        "colab": {
          "base_uri": "https://localhost:8080/"
        },
        "id": "ZzaGW4cqYNCT",
        "outputId": "071ae5c3-4678-48ec-c0e7-805d80870555"
      },
      "execution_count": 5,
      "outputs": [
        {
          "output_type": "stream",
          "name": "stdout",
          "text": [
            "Collecting openai\n",
            "  Downloading openai-1.35.13-py3-none-any.whl (328 kB)\n",
            "\u001b[2K     \u001b[90m━━━━━━━━━━━━━━━━━━━━━━━━━━━━━━━━━━━━━━━━\u001b[0m \u001b[32m328.5/328.5 kB\u001b[0m \u001b[31m5.1 MB/s\u001b[0m eta \u001b[36m0:00:00\u001b[0m\n",
            "\u001b[?25hRequirement already satisfied: anyio<5,>=3.5.0 in /usr/local/lib/python3.10/dist-packages (from openai) (3.7.1)\n",
            "Requirement already satisfied: distro<2,>=1.7.0 in /usr/lib/python3/dist-packages (from openai) (1.7.0)\n",
            "Collecting httpx<1,>=0.23.0 (from openai)\n",
            "  Downloading httpx-0.27.0-py3-none-any.whl (75 kB)\n",
            "\u001b[2K     \u001b[90m━━━━━━━━━━━━━━━━━━━━━━━━━━━━━━━━━━━━━━━━\u001b[0m \u001b[32m75.6/75.6 kB\u001b[0m \u001b[31m4.4 MB/s\u001b[0m eta \u001b[36m0:00:00\u001b[0m\n",
            "\u001b[?25hRequirement already satisfied: pydantic<3,>=1.9.0 in /usr/local/lib/python3.10/dist-packages (from openai) (2.8.0)\n",
            "Requirement already satisfied: sniffio in /usr/local/lib/python3.10/dist-packages (from openai) (1.3.1)\n",
            "Requirement already satisfied: tqdm>4 in /usr/local/lib/python3.10/dist-packages (from openai) (4.66.4)\n",
            "Requirement already satisfied: typing-extensions<5,>=4.7 in /usr/local/lib/python3.10/dist-packages (from openai) (4.12.2)\n",
            "Requirement already satisfied: idna>=2.8 in /usr/local/lib/python3.10/dist-packages (from anyio<5,>=3.5.0->openai) (3.7)\n",
            "Requirement already satisfied: exceptiongroup in /usr/local/lib/python3.10/dist-packages (from anyio<5,>=3.5.0->openai) (1.2.1)\n",
            "Requirement already satisfied: certifi in /usr/local/lib/python3.10/dist-packages (from httpx<1,>=0.23.0->openai) (2024.6.2)\n",
            "Collecting httpcore==1.* (from httpx<1,>=0.23.0->openai)\n",
            "  Downloading httpcore-1.0.5-py3-none-any.whl (77 kB)\n",
            "\u001b[2K     \u001b[90m━━━━━━━━━━━━━━━━━━━━━━━━━━━━━━━━━━━━━━━━\u001b[0m \u001b[32m77.9/77.9 kB\u001b[0m \u001b[31m4.6 MB/s\u001b[0m eta \u001b[36m0:00:00\u001b[0m\n",
            "\u001b[?25hCollecting h11<0.15,>=0.13 (from httpcore==1.*->httpx<1,>=0.23.0->openai)\n",
            "  Downloading h11-0.14.0-py3-none-any.whl (58 kB)\n",
            "\u001b[2K     \u001b[90m━━━━━━━━━━━━━━━━━━━━━━━━━━━━━━━━━━━━━━━━\u001b[0m \u001b[32m58.3/58.3 kB\u001b[0m \u001b[31m6.4 MB/s\u001b[0m eta \u001b[36m0:00:00\u001b[0m\n",
            "\u001b[?25hRequirement already satisfied: annotated-types>=0.4.0 in /usr/local/lib/python3.10/dist-packages (from pydantic<3,>=1.9.0->openai) (0.7.0)\n",
            "Requirement already satisfied: pydantic-core==2.20.0 in /usr/local/lib/python3.10/dist-packages (from pydantic<3,>=1.9.0->openai) (2.20.0)\n",
            "Installing collected packages: h11, httpcore, httpx, openai\n",
            "Successfully installed h11-0.14.0 httpcore-1.0.5 httpx-0.27.0 openai-1.35.13\n"
          ]
        }
      ]
    },
    {
      "cell_type": "code",
      "source": [
        "from openai import OpenAI\n",
        "from nltk.tokenize import sent_tokenize\n",
        "import nltk\n",
        "\n",
        "# Asegúrate de descargar los recursos necesarios de NLTK\n",
        "nltk.download('punkt')\n",
        "\n",
        "client = OpenAI(\n",
        "  base_url = \"https://integrate.api.nvidia.com/v1\",\n",
        "  api_key = \"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\"\n",
        ")\n",
        "\n",
        "def dividir_en_chunks(texto, max_tokens=500):\n",
        "    oraciones = sent_tokenize(texto)\n",
        "    chunks = []\n",
        "    chunk_actual = \"\"\n",
        "\n",
        "    for oracion in oraciones:\n",
        "        if len(chunk_actual) + len(oracion) < max_tokens:\n",
        "            chunk_actual += oracion + \" \"\n",
        "        else:\n",
        "            chunks.append(chunk_actual.strip())\n",
        "            chunk_actual = oracion + \" \"\n",
        "\n",
        "    if chunk_actual:\n",
        "        chunks.append(chunk_actual.strip())\n",
        "\n",
        "    return chunks\n",
        "\n",
        "def analizar_texto(query, texto):\n",
        "    chunks = dividir_en_chunks(texto)\n",
        "    respuestas = []\n",
        "\n",
        "    for chunk in chunks:\n",
        "        prompt = f\"Pregunta: {query}\\n\\nTexto: {chunk}\\n\\nRespuesta:\"\n",
        "\n",
        "        completion = client.chat.completions.create(\n",
        "            model=\"meta/llama3-70b-instruct\",\n",
        "            messages=[{\"role\": \"user\", \"content\": prompt}],\n",
        "            temperature=0.5,\n",
        "            max_tokens=150\n",
        "        )\n",
        "\n",
        "        respuestas.append(completion.choices[0].message.content.strip())\n",
        "\n",
        "    # Combina y resume las respuestas si es necesario\n",
        "    respuesta_final = \" \".join(respuestas)\n",
        "    if len(respuesta_final) > 1000:\n",
        "        prompt_resumen = f\"Resume la siguiente respuesta en no más de 3 oraciones: {respuesta_final}\"\n",
        "        resumen = client.chat.completions.create(\n",
        "            model=\"meta/llama3-70b-instruct\",\n",
        "            messages=[{\"role\": \"user\", \"content\": prompt_resumen}],\n",
        "            temperature=0.5,\n",
        "            max_tokens=800\n",
        "        )\n",
        "        respuesta_final = resumen.choices[0].message.content.strip()\n",
        "\n",
        "    return respuesta_final\n",
        "\n",
        "# Ejemplo de uso\n",
        "query1 = query\n",
        "texto1 = contenido\n",
        "\n",
        "for i in range(len(contenidos)):\n",
        "    respuesta = analizar_texto(query1, contenidos[i])\n",
        "    print(f'Contenido {i + 1}:')\n",
        "    print(respuesta + '\\n')"
      ],
      "metadata": {
        "colab": {
          "base_uri": "https://localhost:8080/"
        },
        "id": "TEOcbH2YcfEh",
        "outputId": "d0123ce3-dda5-4ac2-faae-46cde5752333"
      },
      "execution_count": null,
      "outputs": [
        {
          "output_type": "stream",
          "name": "stderr",
          "text": [
            "[nltk_data] Downloading package punkt to /root/nltk_data...\n",
            "[nltk_data]   Package punkt is already up-to-date!\n"
          ]
        },
        {
          "output_type": "stream",
          "name": "stdout",
          "text": [
            "Contenido 1:\n",
            "Para armar un backend, se pueden seguir los siguientes pasos generales:\n",
            "\n",
            "1. **Definir la arquitectura**: Determinar la estructura y tecnologías que se utilizarán para construir el backend, como el lenguaje de programación, el framework, la base de datos, etc.\n",
            "2. **Diseñar la API**: Definir la interfaz de programación de aplicaciones (API) que se utilizará para interactuar con el frontend, incluyendo los endpoints, métodos, parámetros y formatos de respuesta.\n",
            "3. **Implementar la lógica de negocio**: Escribir el código que implementa la lógica de negocio, como la autenticación, autorización, procesamiento de datos, etc.\n",
            "4. **Configurar la base de datos**: Configurar la base de datos para almacenar y recuperar datos, incluyendo la definición de esquemas, relaciones y constraints.\n",
            "5. **Probar y depurar**: Probar y depurar el backend para asegurarse de que funcione correctamente y sin errores.\n",
            "\n",
            "Es importante destacar que estos pasos pueden variar dependiendo del lenguaje de programación, el framework y la tecnología elegida.\n",
            "\n",
            "Contenido 2:\n",
            "Aquí te presento una respuesta resumida en 3 oraciones:\n",
            "\n",
            "Para armar un backend, debes seguir varios pasos clave, incluyendo la definición de la arquitectura, la elección del lenguaje de programación y del framework adecuado, y la configuración del entorno de desarrollo. Luego, debes crear modelos de datos, definir las rutas y controladores, y configurar la base de datos y la autenticación. Finalmente, debes probar y depurar tu backend para asegurarte de que funcione correctamente.\n",
            "\n"
          ]
        }
      ]
    },
    {
      "cell_type": "code",
      "source": [
        "query = \"como armar un backend\"\n",
        "urls = search(query, num_results=2, lang=\"es\", advanced=True)\n",
        "contenidos = []\n",
        "for url in urls:\n",
        "    print(f'\\nAnalizando {url}...\\n')\n",
        "    contenido = analizar_pagina(url.url)\n",
        "    contenidos.append(contenido)\n",
        "\n",
        "\n",
        "query1 = query\n",
        "texto1 = contenido\n",
        "\n",
        "for i in range(len(contenidos)):\n",
        "    respuesta = analizar_texto(query1, contenidos[i])\n",
        "    print(f'Contenido {i + 1}:')\n",
        "    print(respuesta + '\\n')"
      ],
      "metadata": {
        "id": "_hfWK1IuciiF"
      },
      "execution_count": null,
      "outputs": []
    }
  ]
}