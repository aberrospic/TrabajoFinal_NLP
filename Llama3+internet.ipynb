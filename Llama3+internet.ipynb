{
  "nbformat": 4,
  "nbformat_minor": 0,
  "metadata": {
    "colab": {
      "provenance": []
    },
    "kernelspec": {
      "name": "python3",
      "display_name": "Python 3"
    },
    "language_info": {
      "name": "python"
    }
  },
  "cells": [
    {
      "cell_type": "code",
      "execution_count": 1,
      "metadata": {
        "id": "p4VwOtMUIRdt"
      },
      "outputs": [],
      "source": [
        "!pip install googlesearch-python --quiet"
      ]
    },
    {
      "cell_type": "code",
      "source": [
        "!pip install openai requests beautifulsoup4 transformers --quiet"
      ],
      "metadata": {
        "colab": {
          "base_uri": "https://localhost:8080/"
        },
        "id": "361LVRjLIg_O",
        "outputId": "5a77d83d-6fec-402a-b608-e23fc604bb04"
      },
      "execution_count": 5,
      "outputs": [
        {
          "output_type": "stream",
          "name": "stdout",
          "text": [
            "\u001b[2K     \u001b[90m━━━━━━━━━━━━━━━━━━━━━━━━━━━━━━━━━━━━━━━━\u001b[0m \u001b[32m328.5/328.5 kB\u001b[0m \u001b[31m2.2 MB/s\u001b[0m eta \u001b[36m0:00:00\u001b[0m\n",
            "\u001b[2K     \u001b[90m━━━━━━━━━━━━━━━━━━━━━━━━━━━━━━━━━━━━━━━━\u001b[0m \u001b[32m75.6/75.6 kB\u001b[0m \u001b[31m8.0 MB/s\u001b[0m eta \u001b[36m0:00:00\u001b[0m\n",
            "\u001b[2K     \u001b[90m━━━━━━━━━━━━━━━━━━━━━━━━━━━━━━━━━━━━━━━━\u001b[0m \u001b[32m77.9/77.9 kB\u001b[0m \u001b[31m8.5 MB/s\u001b[0m eta \u001b[36m0:00:00\u001b[0m\n",
            "\u001b[2K     \u001b[90m━━━━━━━━━━━━━━━━━━━━━━━━━━━━━━━━━━━━━━━━\u001b[0m \u001b[32m58.3/58.3 kB\u001b[0m \u001b[31m5.2 MB/s\u001b[0m eta \u001b[36m0:00:00\u001b[0m\n",
            "\u001b[?25h"
          ]
        }
      ]
    },
    {
      "cell_type": "code",
      "source": [
        "from googlesearch import search\n",
        "\n",
        "# Realizar una búsqueda en Google\n",
        "query = \"como armar un backend\"\n",
        "\n",
        "# Obtener los URLs de los resultados\n",
        "urls = search(query, num_results=5, lang=\"es\", advanced=True,)\n",
        "for url in urls:\n",
        "    print(url.title)\n",
        "    print(url.url)\n",
        "    print(url.description)"
      ],
      "metadata": {
        "colab": {
          "base_uri": "https://localhost:8080/"
        },
        "id": "COG5azHrIWpR",
        "outputId": "c52e39e0-b2bd-4c1d-f5f4-7cc6efe29c5a"
      },
      "execution_count": 2,
      "outputs": [
        {
          "output_type": "stream",
          "name": "stdout",
          "text": [
            "¿Cómo construir un backend para una aplicación móvil?\n",
            "https://blog.back4app.com/es/como-construir-un-backend-para-una-aplicacion-movil/\n",
            "12 dic 2022 — En este artículo, aprenderá qué es un backend para una aplicación móvil y todo lo que necesita saber para construir su backend.\n",
            "Las 10 mejores soluciones de backend para crear su ...\n",
            "https://blog.back4app.com/es/las-10-mejores-soluciones-de-backend-para-crear-su-proxima-aplicacion/\n",
            "Las 10 mejores soluciones de backend para crear su próxima aplicación · 1. Back4app · 2. Firebase · 3. Express.js · 4. Laravel · 5. Django · 6. Ruby on Rails.\n",
            "La mejor manera de aprender desarrollo web backend\n",
            "https://www.freecodecamp.org/espanol/news/aprender-desarrollo-backend/\n",
            "27 abr 2023 — Están totalmente solos. Por lo tanto, a menudo tendrás que crear páginas web y servidores tú mismo, al menos al principio. Aunque hay muchas ...\n",
            "Creación de un backend para una aplicación\n",
            "https://docs.aws.amazon.com/es_es/amplify/latest/userguide/deploy-backend.html\n",
            "Para ver un tutorial que lo guía a través de los pasos para crear una aplicación completa de Amplify Gen 2 con un backend TypeScript basado, consulte Comenzar ...\n",
            "Creación de un backend para una aplicación\n",
            "https://docs.aws.amazon.com/es_es/amplify/latest/userguide/deploy-backend.html\n",
            "Para ver un tutorial que lo guía a través de los pasos para crear una aplicación completa de Amplify Gen 2 con un backend TypeScript basado, consulte Comenzar ...\n"
          ]
        }
      ]
    },
    {
      "cell_type": "code",
      "source": [
        "import requests\n",
        "from bs4 import BeautifulSoup\n",
        "from googlesearch import search\n",
        "\n",
        "# Realizar una búsqueda en Google\n",
        "query = \"como armar un backend\"\n",
        "urls = search(query, num_results=2, lang=\"es\", advanced=True)\n",
        "\n",
        "def analizar_pagina(url):\n",
        "    try:\n",
        "        # Obtener el contenido de la página web\n",
        "        response = requests.get(url)\n",
        "        response.raise_for_status()  # Verifica que la solicitud fue exitosa\n",
        "\n",
        "        # Crear un objeto BeautifulSoup y parsear el HTML\n",
        "        soup = BeautifulSoup(response.content, 'html.parser')\n",
        "\n",
        "        # Extraer el título de la página\n",
        "        titulo = soup.title.string if soup.title else 'Sin título'\n",
        "        print(f'Título de la página: {titulo}')\n",
        "\n",
        "        # Extraer todos los párrafos de la página dentro del contenido principal\n",
        "        contenido_principal = soup.find('main') or soup.find('article') or soup\n",
        "        parrafos = contenido_principal.find_all('p')\n",
        "\n",
        "        texto_largo = \"\"\n",
        "\n",
        "        # Filtrar y mostrar párrafos que tengan una longitud mínima\n",
        "        for i, parrafo in enumerate(parrafos, 1):\n",
        "            texto = parrafo.get_text().strip()\n",
        "            if len(texto) > 50:  # Por ejemplo, considerar solo párrafos con más de 50 caracteres\n",
        "                texto_largo = texto_largo + texto + \" \"\n",
        "        return texto_largo\n",
        "    except requests.RequestException as e:\n",
        "        print(f'Error al acceder a {url}: {e}')\n",
        "        return \"\"\n",
        "\n",
        "# Analizar cada URL en la lista\n",
        "contenidos = []\n",
        "for url in urls:\n",
        "    print(f'\\nAnalizando {url}...\\n')\n",
        "    contenido = analizar_pagina(url.url)\n",
        "    contenidos.append(contenido)"
      ],
      "metadata": {
        "colab": {
          "base_uri": "https://localhost:8080/"
        },
        "id": "hBoHHGiAIgUw",
        "outputId": "e44c866a-6c4b-4afb-8f6f-5e9827bd9c4d"
      },
      "execution_count": 3,
      "outputs": [
        {
          "output_type": "stream",
          "name": "stdout",
          "text": [
            "\n",
            "Analizando SearchResult(url=https://blog.back4app.com/es/como-construir-un-backend-para-una-aplicacion-movil/, title=¿Cómo construir un backend para una aplicación móvil?, description=12 dic 2022 — En este artículo, aprenderá qué es un backend para una aplicación móvil y todo lo que necesita saber para construir su backend.)...\n",
            "\n",
            "Título de la página: Todo lo que necesita saber sobre la creación de un backend de aplicación móvil\n",
            "\n",
            "Analizando SearchResult(url=https://blog.back4app.com/es/las-10-mejores-soluciones-de-backend-para-crear-su-proxima-aplicacion/, title=Las 10 mejores soluciones de backend para crear su ..., description=Las 10 mejores soluciones de backend para crear su próxima aplicación · 1. Back4app · 2. Firebase · 3. Express.js · 4. Laravel · 5. Django · 6. Ruby on Rails.)...\n",
            "\n",
            "Título de la página: Las 10 mejores soluciones de backend para crear su próxima aplicación\n",
            "\n",
            "Analizando SearchResult(url=https://www.freecodecamp.org/espanol/news/aprender-desarrollo-backend/, title=La mejor manera de aprender desarrollo web backend, description=27 abr 2023 — Están totalmente solos. Por lo tanto, a menudo tendrás que crear páginas web y servidores tú mismo, al menos al principio. Aunque hay muchas ...)...\n",
            "\n",
            "Título de la página: La mejor manera de aprender desarrollo web backend\n"
          ]
        }
      ]
    },
    {
      "cell_type": "code",
      "source": [
        "from openai import OpenAI\n",
        "from nltk.tokenize import sent_tokenize\n",
        "import nltk\n",
        "\n",
        "# Asegúrate de descargar los recursos necesarios de NLTK\n",
        "nltk.download('punkt')\n",
        "\n",
        "client = OpenAI(\n",
        "  base_url = \"https://integrate.api.nvidia.com/v1\",\n",
        "  api_key = \"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\"\n",
        ")\n",
        "\n",
        "def dividir_en_chunks(texto, max_tokens=500):\n",
        "    oraciones = sent_tokenize(texto)\n",
        "    chunks = []\n",
        "    chunk_actual = \"\"\n",
        "\n",
        "    for oracion in oraciones:\n",
        "        if len(chunk_actual) + len(oracion) < max_tokens:\n",
        "            chunk_actual += oracion + \" \"\n",
        "        else:\n",
        "            chunks.append(chunk_actual.strip())\n",
        "            chunk_actual = oracion + \" \"\n",
        "\n",
        "    if chunk_actual:\n",
        "        chunks.append(chunk_actual.strip())\n",
        "\n",
        "    return chunks\n",
        "\n",
        "def analizar_texto(query, texto):\n",
        "    chunks = dividir_en_chunks(texto)\n",
        "    respuestas = []\n",
        "\n",
        "    for chunk in chunks:\n",
        "        prompt = f\"Pregunta: {query}\\n\\nTexto: {chunk}\\n\\nRespuesta:\"\n",
        "\n",
        "        completion = client.chat.completions.create(\n",
        "            model=\"meta/llama3-70b-instruct\",\n",
        "            messages=[{\"role\": \"user\", \"content\": prompt}],\n",
        "            temperature=0.5,\n",
        "            max_tokens=150\n",
        "        )\n",
        "\n",
        "        respuestas.append(completion.choices[0].message.content.strip())\n",
        "\n",
        "    # Combina y resume las respuestas si es necesario\n",
        "    respuesta_final = \" \".join(respuestas)\n",
        "    if len(respuesta_final) > 1000:\n",
        "        prompt_resumen = f\"Resume la siguiente respuesta en no más de 3 oraciones: {respuesta_final}\"\n",
        "        resumen = client.chat.completions.create(\n",
        "            model=\"meta/llama3-70b-instruct\",\n",
        "            messages=[{\"role\": \"user\", \"content\": prompt_resumen}],\n",
        "            temperature=0.5,\n",
        "            max_tokens=800\n",
        "        )\n",
        "        respuesta_final = resumen.choices[0].message.content.strip()\n",
        "\n",
        "    return respuesta_final\n",
        "\n",
        "# Ejemplo de uso\n",
        "query1 = query\n",
        "texto1 = contenido\n",
        "\n",
        "for i in range(len(contenidos)):\n",
        "    respuesta = analizar_texto(query1, contenidos[i])\n",
        "    print(f'Contenido {i + 1}:')\n",
        "    print(respuesta + '\\n')"
      ],
      "metadata": {
        "colab": {
          "base_uri": "https://localhost:8080/"
        },
        "id": "fw7JP2t7IqZb",
        "outputId": "957196bf-b947-4337-d573-c262d7fe8bd1"
      },
      "execution_count": 7,
      "outputs": [
        {
          "output_type": "stream",
          "name": "stderr",
          "text": [
            "[nltk_data] Downloading package punkt to /root/nltk_data...\n",
            "[nltk_data]   Package punkt is already up-to-date!\n"
          ]
        },
        {
          "output_type": "stream",
          "name": "stdout",
          "text": [
            "Contenido 1:\n",
            "La pregunta es cómo armar un backend, pero el texto proporcionado no ofrece una respuesta directa a esa pregunta. En lugar de eso, el texto parece promocionar una plataforma llamada Back4app y ofrece pasos para crear un proyecto en esa plataforma.\n",
            "\n",
            "Para responder a la pregunta original, aquí hay algunos pasos generales para armar un backend:\n",
            "\n",
            "1. **Definir la arquitectura**: Determinar la tecnología y la estructura que se utilizará para construir el backend, como el lenguaje de programación, el framework, la base de datos, etc.\n",
            "2. **Diseñar la API**: Definir la interfaz de programación de aplicaciones (API) que se utilizará para interactuar con el frontend, incluyendo los endpoints, los métodos HTTP, los parámetros y los formatos de respuesta.\n",
            "3. **Implementar la lógica de negocio**: Escribir el código que implementa la lógica de negocio del backend, incluyendo la autenticación, la autorización, la gestión de datos, etc.\n",
            "4. **Configurar la base de datos**: Configurar una base de datos que se adapte a las necesidades del proyecto, incluyendo la elección del tipo de base de datos, la creación de tablas y relaciones, etc.\n",
            "5. **Desarrollar la lógica de negocio**: Escribir el código que implementa la lógica de negocio del backend, incluyendo la autenticación, la autorización, la gestión de datos, etc.\n",
            "\n",
            "Es importante destacar que estos son solo algunos pasos generales y que el proceso de armar un backend puede variar dependiendo del lenguaje de programación, el framework y las necesidades específicas del proyecto.\n",
            "\n",
            "Contenido 2:\n",
            "Aquí te presento una respuesta resumida en 3 oraciones:\n",
            "\n",
            "Para armar un backend, debes seguir varios pasos clave. Primero, debes elegir un lenguaje de programación adecuado para tu proyecto, como Node.js, Python, Ruby, PHP, etc. Luego, debes seleccionar un framework o plataforma que te brinde estructura y herramientas para desarrollar tu backend, como Express.js, Django, Ruby on Rails, etc.\n",
            "\n",
            "Contenido 3:\n",
            "Aquí te presento una respuesta resumida en 3 oraciones:\n",
            "\n",
            "Para armar un backend, debes elegir un lenguaje de programación adecuado para tu proyecto, como Node.js, Python, Ruby, PHP, Java, etc. Luego, debes seleccionar un framework o librería que se adapte a tu lenguaje de programación elegido, como Express.js para Node.js o Django para Python. Finalmente, debes configurar tu entorno de desarrollo y diseñar la arquitectura de tu backend, incluyendo la base de datos y la lógica del negocio.\n",
            "\n"
          ]
        }
      ]
    },
    {
      "cell_type": "code",
      "source": [
        "query = \"como armar un backend\"\n",
        "urls = search(query, num_results=2, lang=\"es\", advanced=True)\n",
        "contenidos = []\n",
        "for url in urls:\n",
        "    print(f'\\nAnalizando {url}...\\n')\n",
        "    contenido = analizar_pagina(url.url)\n",
        "    contenidos.append(contenido)\n",
        "\n",
        "\n",
        "query1 = query\n",
        "texto1 = contenido\n",
        "\n",
        "for i in range(len(contenidos)):\n",
        "    respuesta = analizar_texto(query1, contenidos[i])\n",
        "    print(f'Contenido {i + 1}:')\n",
        "    print(respuesta + '\\n')"
      ],
      "metadata": {
        "colab": {
          "base_uri": "https://localhost:8080/"
        },
        "id": "K-MM5AUHI4KR",
        "outputId": "c62d40a6-319f-4938-c6f7-3f8ff14f9a3d"
      },
      "execution_count": 8,
      "outputs": [
        {
          "output_type": "stream",
          "name": "stdout",
          "text": [
            "\n",
            "Analizando SearchResult(url=https://blog.back4app.com/es/como-construir-un-backend-para-una-aplicacion-movil/, title=¿Cómo construir un backend para una aplicación móvil?, description=12 dic 2022 — En este artículo, aprenderá qué es un backend para una aplicación móvil y todo lo que necesita saber para construir su backend.)...\n",
            "\n",
            "Título de la página: Todo lo que necesita saber sobre la creación de un backend de aplicación móvil\n",
            "\n",
            "Analizando SearchResult(url=https://blog.back4app.com/es/las-10-mejores-soluciones-de-backend-para-crear-su-proxima-aplicacion/, title=Las 10 mejores soluciones de backend para crear su ..., description=Las 10 mejores soluciones de backend para crear su próxima aplicación · 1. Back4app · 2. Firebase · 3. Express.js · 4. Laravel · 5. Django · 6. Ruby on Rails.)...\n",
            "\n",
            "Título de la página: Las 10 mejores soluciones de backend para crear su próxima aplicación\n",
            "\n",
            "Analizando SearchResult(url=https://www.freecodecamp.org/espanol/news/aprender-desarrollo-backend/, title=La mejor manera de aprender desarrollo web backend, description=27 abr 2023 — Están totalmente solos. Por lo tanto, a menudo tendrás que crear páginas web y servidores tú mismo, al menos al principio. Aunque hay muchas ...)...\n",
            "\n",
            "Título de la página: La mejor manera de aprender desarrollo web backend\n",
            "Contenido 1:\n",
            "Para armar un backend, se pueden seguir los siguientes pasos generales:\n",
            "\n",
            "1. **Definir la arquitectura**: Determinar la tecnología y la estructura que se utilizará para construir el backend, como el lenguaje de programación, el framework, la base de datos, etc.\n",
            "2. **Elegir un lenguaje de programación y un framework**: Seleccionar un lenguaje de programación y un framework que se adapten a las necesidades del proyecto.\n",
            "3. **Diseñar la base de datos**: Crear un modelo de datos que se adapte a las necesidades del proyecto.\n",
            "4. **Implementar la lógica de negocio**: Escribir el código que implementa la lógica de negocio del proyecto.\n",
            "5. **Configurar la seguridad**: Configurar la seguridad del backend, incluyendo la autenticación y autorización de usuarios.\n",
            "6. **Probar y depurar**: Probar y depurar el backend para asegurarse de que funcione correctamente.\n",
            "\n",
            "Es importante tener en cuenta que estos pasos pueden variar dependiendo del proyecto y las tecnologías utilizadas.\n",
            "\n",
            "Contenido 2:\n",
            "Aquí te presento una respuesta resumida en 3 oraciones:\n",
            "\n",
            "Para armar un backend, debes seleccionar un lenguaje de programación adecuado para tu proyecto, como JavaScript, Python, Ruby, PHP, etc. Luego, debes elegir un framework que se adapte a tus necesidades y al lenguaje de programación elegido, como Express.js, Django, Ruby on Rails, Laravel, etc. Finalmente, debes definir la arquitectura del backend, incluyendo la estructura de la aplicación, la base de datos y la comunicación con el frontend.\n",
            "\n",
            "Contenido 3:\n",
            "Aquí te presento una respuesta resumida en 3 oraciones:\n",
            "\n",
            "Armar un backend implica varios pasos y consideraciones. Primero, debes elegir un lenguaje de programación adecuado para tu proyecto, como Python, Node.js, Ruby, PHP, etc. Luego, debes seleccionar un framework o plataforma que te ayude a estructurar y organizar tu código, como Express.js, Django, Ruby on Rails, etc.\n",
            "\n"
          ]
        }
      ]
    }
  ]
}
